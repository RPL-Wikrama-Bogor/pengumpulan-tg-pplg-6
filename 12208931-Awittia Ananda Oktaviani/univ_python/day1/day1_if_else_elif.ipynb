{
  "nbformat": 4,
  "nbformat_minor": 0,
  "metadata": {
    "colab": {
      "provenance": []
    },
    "kernelspec": {
      "name": "python3",
      "display_name": "Python 3"
    },
    "language_info": {
      "name": "python"
    }
  },
  "cells": [
    {
      "cell_type": "code",
      "execution_count": null,
      "metadata": {
        "id": "3L-guaJmm9K6"
      },
      "outputs": [],
      "source": [
        "x= 5\n",
        "print(type(x))\n",
        "\n",
        "y= 0.5\n",
        "print(type(y))\n",
        "\n",
        "mobil = \"hijau\"\n",
        "print(type(mobil))\n",
        "\n",
        "x=5\n",
        "(x**2) + (x**3) + (x+2) - (x/2)\n",
        "\n",
        "#penggunaan if, else dan elif\n",
        "uang = 30000\n",
        "if uang >= 25000:\n",
        "    print(\"cukup\")\n",
        "else:\n",
        "    print(\"tidakcukup\")\n",
        "\n",
        "price = 25000\n",
        "uang = 10000\n",
        " if price == uang:\n",
        "     print(\"uang pas\")\n",
        " elif price < uang:\n",
        "     print(\"uang lebih\")\n",
        " else:\n",
        "     print(\"uang kurang\")\n"
      ]
    }
  ]
}