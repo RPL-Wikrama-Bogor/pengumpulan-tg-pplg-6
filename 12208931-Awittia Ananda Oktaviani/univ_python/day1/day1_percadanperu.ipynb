{
  "nbformat": 4,
  "nbformat_minor": 0,
  "metadata": {
    "colab": {
      "provenance": []
    },
    "kernelspec": {
      "name": "python3",
      "display_name": "Python 3"
    },
    "language_info": {
      "name": "python"
    }
  },
  "cells": [
    {
      "cell_type": "code",
      "execution_count": null,
      "metadata": {
        "id": "ckoCOJtWqOst"
      },
      "outputs": [],
      "source": [
        "#percabangan if dan else\n",
        "uang = 30000\n",
        "if uang >= 25000:\n",
        "  print(\"uang cukup\")\n",
        "else :\n",
        "   print (\"uang tidak cukup\")\n",
        "\n",
        "#perulangan dengan while\n",
        "  lanjut = True\n",
        "while(lanjut):\n",
        "  option = input(\"lanjut atau tidak (y/n)\")\n",
        "  if(option == 'n'):\n",
        "    lanjut = False\n",
        "    print(\"Program berhenti\")\n"
      ]
    }
  ]
}