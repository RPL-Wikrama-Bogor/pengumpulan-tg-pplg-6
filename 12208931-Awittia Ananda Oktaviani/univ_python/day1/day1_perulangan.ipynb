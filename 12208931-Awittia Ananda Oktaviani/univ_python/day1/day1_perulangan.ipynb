{
  "nbformat": 4,
  "nbformat_minor": 0,
  "metadata": {
    "colab": {
      "provenance": []
    },
    "kernelspec": {
      "name": "python3",
      "display_name": "Python 3"
    },
    "language_info": {
      "name": "python"
    }
  },
  "cells": [
    {
      "cell_type": "code",
      "execution_count": null,
      "metadata": {
        "id": "VWiVkk-upGNB"
      },
      "outputs": [],
      "source": [
        "#penggunaan perulangan for dan while\n",
        "for i in range(10):\n",
        "  print (i)\n",
        "\n",
        "\n",
        "j=0\n",
        "while j<10 :\n",
        "    print(j)\n",
        "    j= j + 1\n",
        "\n",
        "total = 0\n",
        "for i in range (2,6):\n",
        "  total = total + i\n",
        "\n",
        "  print(total)\n"
      ]
    }
  ]
}