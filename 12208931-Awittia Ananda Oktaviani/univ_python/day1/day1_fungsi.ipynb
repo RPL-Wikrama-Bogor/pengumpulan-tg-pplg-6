{
  "nbformat": 4,
  "nbformat_minor": 0,
  "metadata": {
    "colab": {
      "provenance": []
    },
    "kernelspec": {
      "name": "python3",
      "display_name": "Python 3"
    },
    "language_info": {
      "name": "python"
    }
  },
  "cells": [
    {
      "cell_type": "code",
      "execution_count": null,
      "metadata": {
        "id": "vGG4PTavrEid"
      },
      "outputs": [],
      "source": [
        "#fungsi perkalian\n",
        "\n",
        "def perkalian(angka1, angka2):\n",
        "    return angka1 * angka2\n",
        "\n",
        "hasil = perkalian(10, 2)\n",
        "print(hasil)  # Output akan menjadi 20, karena 10 * 2 = 20\n"
      ]
    }
  ]
}